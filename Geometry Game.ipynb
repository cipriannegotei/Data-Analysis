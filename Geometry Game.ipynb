{
  "nbformat": 4,
  "nbformat_minor": 0,
  "metadata": {
    "colab": {
      "provenance": [],
      "authorship_tag": "ABX9TyPaEY4NjbJ7nW4qCLpwOEiR",
      "include_colab_link": true
    },
    "kernelspec": {
      "name": "python3",
      "display_name": "Python 3"
    },
    "language_info": {
      "name": "python"
    }
  },
  "cells": [
    {
      "cell_type": "markdown",
      "metadata": {
        "id": "view-in-github",
        "colab_type": "text"
      },
      "source": [
        "<a href=\"https://colab.research.google.com/github/cipriannegotei/Data-Analysis/blob/main/Geometry%20Game.ipynb\" target=\"_parent\"><img src=\"https://colab.research.google.com/assets/colab-badge.svg\" alt=\"Open In Colab\"/></a>"
      ]
    },
    {
      "cell_type": "code",
      "execution_count": 11,
      "metadata": {
        "colab": {
          "base_uri": "https://localhost:8080/"
        },
        "id": "KslwA-1HfwYV",
        "outputId": "c1b0ef47-b726-4f39-fedd-8a7e340cdb7c"
      },
      "outputs": [
        {
          "output_type": "stream",
          "name": "stdout",
          "text": [
            "The rectangle coordinates are: 3 ,  4 and 12 ,  10\n",
            "Your X value is: 10\n",
            "Your Y value is: 10\n",
            "Which is the rectangle area? 54\n",
            "The point you chose falls in the rectangle?  False\n",
            "Your answer was: \n",
            "Correct\n"
          ]
        }
      ],
      "source": [
        "class Point:\n",
        "\n",
        "  def __init__(self, x, y):\n",
        "    self.x = x\n",
        "    self.y = y\n",
        "\n",
        "  def falls_in_rectangle(self, rectangle):\n",
        "    if rectangle.point1.x < self.x < rectangle.point2.x and \\\n",
        "    rectangle.point1.y < self.y < rectangle.point2.y:\n",
        "      return True\n",
        "    else:\n",
        "      return False\n",
        "\n",
        "\n",
        "class Rectangle:\n",
        "\n",
        "  def __init__(self, point1, point2):\n",
        "    self.point1 = point1\n",
        "    self.point2 = point2\n",
        "\n",
        "  def area (self):\n",
        "    return (self.point2.x - self.point1.x) * (self.point2.y - self.point1.y)\n",
        "\n",
        "from random import randint\n",
        "\n",
        "rectangle = Rectangle( Point(randint(0,9), randint(0,9)), Point(randint(10,19), randint(10,19)))\n",
        "\n",
        "print(\"The rectangle coordinates are:\", rectangle.point1.x, \", \", rectangle.point1.y, \"and\", rectangle.point2.x, \", \", rectangle.point2.y)\n",
        "\n",
        "user_point = Point(float(input(\"Your X value is: \")), float(input(\"Your Y value is: \")))\n",
        "\n",
        "user_area = float(input(\"Which is the rectangle area? \"))\n",
        "\n",
        "print(\"The point you chose falls in the rectangle? \", user_point.falls_in_rectangle(rectangle))\n",
        "\n",
        "print(\"Your answer was: \")\n",
        "if rectangle.area() == user_area:\n",
        "  print(\"Correct\")\n",
        "else:\n",
        "  print(\"Incorrect\")"
      ]
    }
  ]
}